{
 "cells": [
  {
   "cell_type": "markdown",
   "id": "5f7cb240-9db4-4ba8-a939-90b3437a8b6e",
   "metadata": {},
   "source": [
    "# Q1. What is the meaning of multiple inheritance?"
   ]
  },
  {
   "cell_type": "markdown",
   "id": "44bca5cc-cde8-44d8-90b7-4fe5bb9675f7",
   "metadata": {},
   "source": [
    "Multiple inheritance is a feature in object-oriented programming languages that allows a class to inherit from more than one base class. In other words, a class can derive characteristics and behaviors from multiple parent classes. This concept enables a derived class to have features and functionalities from different sources, making it more flexible and reusable.\n",
    "\n",
    "For example, let's say we have two classes: ClassA and ClassB, each with its own set of attributes and methods. If we create a new class, ClassC, that inherits from both ClassA and ClassB, ClassC would have access to the attributes and methods defined in both ClassA and ClassB."
   ]
  },
  {
   "cell_type": "markdown",
   "id": "7d98636f-147a-41fc-9940-65f479382fc4",
   "metadata": {},
   "source": [
    "# Q2. What is the concept of delegation?"
   ]
  },
  {
   "cell_type": "markdown",
   "id": "c47833bc-083d-4b54-b8ad-99b33db9aff0",
   "metadata": {},
   "source": [
    "Delegation is a design pattern in object-oriented programming where one object (delegator) forwards a specific task or responsibility to another object (delegate) to perform on its behalf. Instead of inheriting or implementing the functionality directly, the delegator holds a reference to the delegate object and invokes methods on the delegate to accomplish the task.\n",
    "\n",
    "The concept of delegation promotes code reusability, flexibility, and modularity. It allows you to compose complex behavior by combining smaller, specialized classes. With delegation, a single class does not need to handle all aspects of a particular behavior, but rather it can offload specific tasks to other classes that are designed to handle those tasks efficiently."
   ]
  },
  {
   "cell_type": "markdown",
   "id": "7889aad1-e240-47b7-b024-1417e9458dca",
   "metadata": {},
   "source": [
    "# Q3. What is the concept of composition?"
   ]
  },
  {
   "cell_type": "markdown",
   "id": "4a188641-eda6-478a-9f11-ca8641d9e554",
   "metadata": {},
   "source": [
    "Composition is a design principle in object-oriented programming where a class is composed of one or more objects of other classes rather than inheriting from them. It allows building complex objects by combining simpler, reusable components, creating a \"has-a\" relationship between the containing class (composite) and its component objects.\n",
    "\n",
    "In composition, the composite class does not inherit the behavior of its component classes, but it uses them to provide its own functionalities. The composed objects are usually created within the composite class and often held as instance variables.\n",
    "\n",
    "The key idea behind composition is to favor object aggregation over class inheritance. It promotes code reuse and flexibility, as you can change the behavior of the composite class by changing its components without affecting other parts of the code."
   ]
  },
  {
   "cell_type": "markdown",
   "id": "1dacd1bf-7d3f-4074-b92f-e91baa829797",
   "metadata": {},
   "source": [
    "# Q4. What are bound methods and how do we use them?"
   ]
  },
  {
   "cell_type": "markdown",
   "id": "7139b923-e3b5-4659-a274-29c80ca4e70f",
   "metadata": {},
   "source": []
  },
  {
   "cell_type": "markdown",
   "id": "c878cff5-ce5c-4ccc-8000-7dde651dce19",
   "metadata": {},
   "source": [
    "# Q5. What is the purpose of pseudoprivate attributes?"
   ]
  },
  {
   "cell_type": "markdown",
   "id": "f2f1bb30-139d-4d9d-a6cb-bc761fcbe6c8",
   "metadata": {},
   "source": []
  }
 ],
 "metadata": {
  "kernelspec": {
   "display_name": "Python 3 (ipykernel)",
   "language": "python",
   "name": "python3"
  },
  "language_info": {
   "codemirror_mode": {
    "name": "ipython",
    "version": 3
   },
   "file_extension": ".py",
   "mimetype": "text/x-python",
   "name": "python",
   "nbconvert_exporter": "python",
   "pygments_lexer": "ipython3",
   "version": "3.10.6"
  }
 },
 "nbformat": 4,
 "nbformat_minor": 5
}
