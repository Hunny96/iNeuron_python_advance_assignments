{
 "cells": [
  {
   "cell_type": "markdown",
   "id": "439e2743-0e40-4509-afec-7ef8f79d4251",
   "metadata": {},
   "source": [
    "# What is the concept of an abstract superclass?"
   ]
  },
  {
   "cell_type": "markdown",
   "id": "7c5e3823-2389-40a4-9a6f-fd8023a68242",
   "metadata": {},
   "source": [
    "In object-oriented programming, an abstract superclass is a class that is designed to be inherited from but cannot be instantiated directly. It serves as a blueprint for creating concrete subclasses that provide specific implementations of its abstract methods and attributes.\n",
    "\n",
    "The concept of an abstract superclass is closely tied to the idea of abstraction and the need to define common behavior and structure for a group of related classes. By defining a superclass as abstract, you are indicating that it is meant to be extended and specialized by its subclasses.\n",
    "\n",
    "An abstract superclass typically contains one or more abstract methods, which are method declarations without any implementation. These abstract methods define a contract that any concrete subclass must adhere to by providing their own implementation of those methods. Concrete subclasses that inherit from the abstract superclass are responsible for implementing the abstract methods and providing their specific behavior.\n",
    "\n",
    "The purpose of an abstract superclass is to establish a common interface and shared behavior among a group of related classes, while allowing for flexibility and customization in the subclasses. It helps in promoting code reuse, enforcing consistency, and providing a higher level of abstraction.\n",
    "\n",
    "In Python, the `abc` module provides tools for working with abstract classes. By inheriting from the `ABC` (Abstract Base Class) and using the `@abstractmethod` decorator, you can define abstract methods and create abstract superclasses. Subclasses of abstract superclasses must implement all the abstract methods to be considered concrete.\n",
    "\n",
    "In summary, an abstract superclass serves as a blueprint for creating concrete subclasses and defines an interface that subclasses must adhere to. It establishes common behavior and structure while allowing for specialization and customization in the subclasses."
   ]
  },
  {
   "cell_type": "markdown",
   "id": "4a44ffdc-e057-47c2-a38e-d66c8e1e88d5",
   "metadata": {},
   "source": [
    "# What happens when a class statement's top level contains a basic assignment statement?"
   ]
  },
  {
   "cell_type": "markdown",
   "id": "38c25d99-512b-4141-9d26-bf7999b227f4",
   "metadata": {},
   "source": [
    "When a class statement's top level contains a basic assignment statement, it creates a class attribute. The assignment statement assigns a value to a variable within the class scope, making it accessible to all instances of the class.\n",
    "\n",
    "Here's an example to illustrate this:\n",
    "\n",
    "```python\n",
    "class MyClass:\n",
    "    attribute = 10\n",
    "```\n",
    "\n",
    "In this example, the `attribute` variable is declared at the top level of the class statement. It becomes a class attribute because it is defined within the class but outside any method or constructor.\n",
    "\n",
    "When you create instances of the `MyClass` class, they will have access to the `attribute` class attribute. The class attribute is shared among all instances of the class, meaning that modifying its value for one instance will affect all other instances as well.\n",
    "\n",
    "```python\n",
    "# Creating instances of MyClass\n",
    "obj1 = MyClass()\n",
    "obj2 = MyClass()\n",
    "\n",
    "# Accessing the class attribute\n",
    "print(obj1.attribute)  # Output: 10\n",
    "print(obj2.attribute)  # Output: 10\n",
    "\n",
    "# Modifying the class attribute\n",
    "obj1.attribute = 20\n",
    "\n",
    "# The class attribute value for obj1 is modified\n",
    "print(obj1.attribute)  # Output: 20\n",
    "\n",
    "# The class attribute value for obj2 remains unaffected\n",
    "print(obj2.attribute)  # Output: 10\n",
    "```\n",
    "\n",
    "In this example, both `obj1` and `obj2` have access to the `attribute` class attribute, and initially, its value is 10 for both instances. However, when we modify the `attribute` value for `obj1`, it creates an instance attribute specific to `obj1`, which shadows the class attribute. As a result, `obj1.attribute` will return 20, while `obj2.attribute` still returns 10.\n",
    "\n",
    "It's important to note that if you access the class attribute directly through the class itself (`MyClass.attribute`), any modifications will affect all instances of the class. However, when accessing the attribute through an instance (`obj1.attribute`), any modifications will create a new instance attribute specific to that instance, leaving the class attribute and other instances unaffected."
   ]
  },
  {
   "cell_type": "markdown",
   "id": "66c92046-5219-4d9e-994d-21065c73a725",
   "metadata": {},
   "source": [
    "# Why does a class need to manually call a superclass's __init__ method?"
   ]
  },
  {
   "cell_type": "markdown",
   "id": "c767a4d4-589e-4330-8b8d-adb6189c76b0",
   "metadata": {},
   "source": [
    "A class needs to manually call a superclass's `__init__` method when it wants to invoke the initialization logic defined in the superclass. By calling the superclass's `__init__` method, the subclass ensures that the superclass's initialization code is executed, setting up any necessary attributes and performing any required operations.\n",
    "\n",
    "Here are a few reasons why a class needs to call a superclass's `__init__` method:\n",
    "\n",
    "1. Inheritance and Initialization: When a class inherits from a superclass, it inherits both the attributes and methods of the superclass. The `__init__` method is responsible for initializing the attributes of an object. If the subclass wants to utilize the initialization logic defined in the superclass, it needs to explicitly call the superclass's `__init__` method to ensure proper initialization.\n",
    "\n",
    "2. Overriding Initialization Logic: In some cases, the subclass may want to override the initialization logic defined in the superclass while still utilizing some parts of it. By calling the superclass's `__init__` method, the subclass can invoke the superclass's initialization logic and then customize or extend it further to meet its specific requirements.\n",
    "\n",
    "3. Multiple Inheritance: When dealing with multiple inheritance, where a class inherits from multiple superclasses, calling the `__init__` method of each superclass becomes essential. This ensures that the initialization logic of all superclasses is executed, allowing the subclass to properly initialize its attributes and handle any potential conflicts or dependencies.\n",
    "\n",
    "To call a superclass's `__init__` method, the subclass typically uses the `super()` function, which provides a convenient way to refer to the superclass and access its methods. By calling `super().__init__(...)`, the subclass explicitly invokes the `__init__` method of the superclass, passing any necessary arguments.\n",
    "\n",
    "Overall, calling a superclass's `__init__` method is necessary to ensure proper initialization and to utilize the initialization logic defined in the superclass, allowing for correct inheritance and customization in subclasses."
   ]
  },
  {
   "cell_type": "markdown",
   "id": "94bf18b7-2013-4228-ae3e-70fc9eff9cee",
   "metadata": {},
   "source": [
    "# How can you augment, instead of completely replacing, an inherited method?"
   ]
  },
  {
   "cell_type": "markdown",
   "id": "5fc9f0ae-9eb9-470c-889f-7c1a841dc588",
   "metadata": {},
   "source": [
    "To augment an inherited method in Python, you can override the method in the subclass and invoke the superclass's implementation within the overriding method. This allows you to add or modify functionality while retaining the core behavior defined in the superclass. Here's how you can augment an inherited method:\n",
    "\n",
    "1. Define the subclass that extends the superclass:\n",
    "```python\n",
    "class Subclass(Superclass):\n",
    "    def method(self):\n",
    "        # Additional code specific to the subclass\n",
    "\n",
    "        # Call the superclass's method\n",
    "        super().method()\n",
    "\n",
    "        # Additional code specific to the subclass\n",
    "```\n",
    "\n",
    "2. Within the subclass, define the overriding method with the same name as the superclass's method (`method` in this example).\n",
    "\n",
    "3. In the overriding method, add the additional code specific to the subclass before and/or after calling the superclass's method using `super().method()`.\n",
    "\n",
    "By calling `super().method()`, you invoke the superclass's implementation of the method, allowing it to execute its logic. This ensures that the original behavior defined in the superclass is preserved while allowing you to augment or modify it as needed in the subclass.\n",
    "\n",
    "Here's an example to illustrate the concept:\n",
    "\n",
    "```python\n",
    "class Vehicle:\n",
    "    def start_engine(self):\n",
    "        print(\"Engine started.\")\n",
    "\n",
    "class Car(Vehicle):\n",
    "    def start_engine(self):\n",
    "        print(\"Prepping the car.\")\n",
    "        super().start_engine()\n",
    "        print(\"Car engine started.\")\n",
    "\n",
    "car = Car()\n",
    "car.start_engine()\n",
    "```\n",
    "\n",
    "In this example, the `Vehicle` class defines a `start_engine` method that prints \"Engine started.\" The `Car` class inherits from `Vehicle` and overrides the `start_engine` method. Within the overridden method, it adds additional code before and after calling the superclass's method using `super().start_engine()`. When `car.start_engine()` is called, the output will be:\n",
    "```\n",
    "Prepping the car.\n",
    "Engine started.\n",
    "Car engine started.\n",
    "```\n",
    "Here, the original behavior of starting the engine defined in the `Vehicle` class is preserved, and the `Car` class augments it by adding extra steps before and after.\n",
    "\n",
    "By using `super()`, you can selectively augment inherited methods while maintaining the core functionality defined in the superclass."
   ]
  },
  {
   "cell_type": "markdown",
   "id": "5e39377c-a805-4a5a-8c2c-5a8ecb631ee7",
   "metadata": {},
   "source": [
    "# How is the local scope of a class different from that of a function?"
   ]
  },
  {
   "cell_type": "markdown",
   "id": "4a9bc866-457b-4687-8d62-e4905b0432cc",
   "metadata": {},
   "source": [
    "The local scope of a class and that of a function differ in the following ways:\n",
    "\n",
    "1. Accessibility: The local scope of a class is accessible throughout the class definition and can be accessed by all methods within the class. In contrast, the local scope of a function is only accessible within the function itself.\n",
    "\n",
    "2. Lifetime: The local scope of a class persists as long as the class instance exists, allowing access to its variables even after method execution. The local scope of a function is created when the function is called and is destroyed when the function execution completes.\n",
    "\n",
    "3. Variables: In the local scope of a class, variables defined within a method or constructor are accessible by other methods within the class, acting as instance attributes. In the local scope of a function, variables declared within the function are only accessible within that function and are typically used for temporary storage or calculations.\n",
    "\n",
    "4. Access to Class Attributes: In the local scope of a class, class attributes (variables defined at the class level) can be accessed directly without any special syntax. In the local scope of a function, the `global` or `nonlocal` keyword is needed to access variables defined outside the function's scope.\n",
    "\n",
    "5. Object References: In the local scope of a class, the `self` reference represents the instance of the class and allows access to its attributes and methods. In the local scope of a function, object references need to be passed as arguments explicitly.\n",
    "\n",
    "In summary, the local scope of a class has broader accessibility within the class definition and persists as long as the instance exists. It allows access to instance attributes and provides a way to share data and behavior among different methods within the class. The local scope of a function is limited to the function itself and is typically used for temporary storage or calculations within the function's execution."
   ]
  },
  {
   "cell_type": "code",
   "execution_count": null,
   "id": "e1805a88-cf47-489a-82c3-7823dfc64808",
   "metadata": {},
   "outputs": [],
   "source": []
  }
 ],
 "metadata": {
  "kernelspec": {
   "display_name": "Python 3 (ipykernel)",
   "language": "python",
   "name": "python3"
  },
  "language_info": {
   "codemirror_mode": {
    "name": "ipython",
    "version": 3
   },
   "file_extension": ".py",
   "mimetype": "text/x-python",
   "name": "python",
   "nbconvert_exporter": "python",
   "pygments_lexer": "ipython3",
   "version": "3.10.6"
  }
 },
 "nbformat": 4,
 "nbformat_minor": 5
}
